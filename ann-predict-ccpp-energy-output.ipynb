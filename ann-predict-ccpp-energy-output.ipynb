{
 "cells": [
  {
   "cell_type": "markdown",
   "id": "5d8ceedb",
   "metadata": {},
   "source": [
    "# Artificial Neural Network - Predict energy output of CCPP"
   ]
  },
  {
   "cell_type": "markdown",
   "id": "e42fe3dd",
   "metadata": {},
   "source": [
    "## Importing the libraries"
   ]
  },
  {
   "cell_type": "code",
   "execution_count": 2,
   "id": "4232a085",
   "metadata": {},
   "outputs": [],
   "source": [
    "import numpy as np\n",
    "import pandas as pd \n",
    "import tensorflow as tf"
   ]
  },
  {
   "cell_type": "code",
   "execution_count": 15,
   "id": "493cdeb3",
   "metadata": {},
   "outputs": [
    {
     "data": {
      "text/plain": [
       "('2.16.2', '2.2.3', '1.26.4')"
      ]
     },
     "execution_count": 15,
     "metadata": {},
     "output_type": "execute_result"
    }
   ],
   "source": [
    "tf.__version__, pd.__version__, np.__version__"
   ]
  },
  {
   "cell_type": "markdown",
   "id": "b4df619e",
   "metadata": {},
   "source": [
    "## Data Preprocessing"
   ]
  },
  {
   "cell_type": "markdown",
   "id": "e2805550",
   "metadata": {},
   "source": [
    "### Importing the dataset"
   ]
  },
  {
   "cell_type": "code",
   "execution_count": 9,
   "id": "e6e0f30e",
   "metadata": {},
   "outputs": [
    {
     "data": {
      "text/html": [
       "<div>\n",
       "<style scoped>\n",
       "    .dataframe tbody tr th:only-of-type {\n",
       "        vertical-align: middle;\n",
       "    }\n",
       "\n",
       "    .dataframe tbody tr th {\n",
       "        vertical-align: top;\n",
       "    }\n",
       "\n",
       "    .dataframe thead th {\n",
       "        text-align: right;\n",
       "    }\n",
       "</style>\n",
       "<table border=\"1\" class=\"dataframe\">\n",
       "  <thead>\n",
       "    <tr style=\"text-align: right;\">\n",
       "      <th></th>\n",
       "      <th>AT</th>\n",
       "      <th>V</th>\n",
       "      <th>AP</th>\n",
       "      <th>RH</th>\n",
       "      <th>PE</th>\n",
       "    </tr>\n",
       "  </thead>\n",
       "  <tbody>\n",
       "    <tr>\n",
       "      <th>0</th>\n",
       "      <td>14.96</td>\n",
       "      <td>41.76</td>\n",
       "      <td>1024.07</td>\n",
       "      <td>73.17</td>\n",
       "      <td>463.26</td>\n",
       "    </tr>\n",
       "    <tr>\n",
       "      <th>1</th>\n",
       "      <td>25.18</td>\n",
       "      <td>62.96</td>\n",
       "      <td>1020.04</td>\n",
       "      <td>59.08</td>\n",
       "      <td>444.37</td>\n",
       "    </tr>\n",
       "    <tr>\n",
       "      <th>2</th>\n",
       "      <td>5.11</td>\n",
       "      <td>39.40</td>\n",
       "      <td>1012.16</td>\n",
       "      <td>92.14</td>\n",
       "      <td>488.56</td>\n",
       "    </tr>\n",
       "    <tr>\n",
       "      <th>3</th>\n",
       "      <td>20.86</td>\n",
       "      <td>57.32</td>\n",
       "      <td>1010.24</td>\n",
       "      <td>76.64</td>\n",
       "      <td>446.48</td>\n",
       "    </tr>\n",
       "    <tr>\n",
       "      <th>4</th>\n",
       "      <td>10.82</td>\n",
       "      <td>37.50</td>\n",
       "      <td>1009.23</td>\n",
       "      <td>96.62</td>\n",
       "      <td>473.90</td>\n",
       "    </tr>\n",
       "  </tbody>\n",
       "</table>\n",
       "</div>"
      ],
      "text/plain": [
       "      AT      V       AP     RH      PE\n",
       "0  14.96  41.76  1024.07  73.17  463.26\n",
       "1  25.18  62.96  1020.04  59.08  444.37\n",
       "2   5.11  39.40  1012.16  92.14  488.56\n",
       "3  20.86  57.32  1010.24  76.64  446.48\n",
       "4  10.82  37.50  1009.23  96.62  473.90"
      ]
     },
     "execution_count": 9,
     "metadata": {},
     "output_type": "execute_result"
    }
   ],
   "source": [
    "dataset = pd.read_excel('Folds5x2_pp.xlsx')\n",
    "dataset.head()"
   ]
  },
  {
   "cell_type": "markdown",
   "id": "d25998ad",
   "metadata": {},
   "source": [
    "### Splitting into independent (matrix) and dependent variable (vector)"
   ]
  },
  {
   "cell_type": "code",
   "execution_count": 20,
   "id": "a0688e79",
   "metadata": {},
   "outputs": [
    {
     "data": {
      "text/plain": [
       "(         AT      V       AP     RH\n",
       " 0     14.96  41.76  1024.07  73.17\n",
       " 1     25.18  62.96  1020.04  59.08\n",
       " 2      5.11  39.40  1012.16  92.14\n",
       " 3     20.86  57.32  1010.24  76.64\n",
       " 4     10.82  37.50  1009.23  96.62\n",
       " ...     ...    ...      ...    ...\n",
       " 9563  16.65  49.69  1014.01  91.00\n",
       " 9564  13.19  39.18  1023.67  66.78\n",
       " 9565  31.32  74.33  1012.92  36.48\n",
       " 9566  24.48  69.45  1013.86  62.39\n",
       " 9567  21.60  62.52  1017.23  67.87\n",
       " \n",
       " [9568 rows x 4 columns],\n",
       " 0       463.26\n",
       " 1       444.37\n",
       " 2       488.56\n",
       " 3       446.48\n",
       " 4       473.90\n",
       "          ...  \n",
       " 9563    460.03\n",
       " 9564    469.62\n",
       " 9565    429.57\n",
       " 9566    435.74\n",
       " 9567    453.28\n",
       " Name: PE, Length: 9568, dtype: float64,\n",
       " pandas.core.frame.DataFrame,\n",
       " pandas.core.series.Series)"
      ]
     },
     "execution_count": 20,
     "metadata": {},
     "output_type": "execute_result"
    }
   ],
   "source": [
    "X = dataset.iloc[:,:-1]\n",
    "y = dataset.iloc[:,-1]\n",
    "X, y, type(X), type(y)"
   ]
  },
  {
   "cell_type": "markdown",
   "id": "0106e0a3",
   "metadata": {},
   "source": [
    "### Spliitting the dataset into Training and Test set"
   ]
  },
  {
   "cell_type": "code",
   "execution_count": 17,
   "id": "ebe7836d",
   "metadata": {},
   "outputs": [
    {
     "data": {
      "text/plain": [
       "(         AT      V       AP     RH\n",
       " 5487  21.92  49.02  1009.29  88.56\n",
       " 3522  11.09  40.43  1025.47  74.97\n",
       " 6916   8.49  39.61  1021.05  87.74\n",
       " 7544  11.43  44.78  1013.43  82.45\n",
       " 7600  17.28  39.99  1007.09  74.25\n",
       " ...     ...    ...      ...    ...\n",
       " 5734  23.39  61.87  1010.35  48.91\n",
       " 5191  11.63  40.55  1022.89  87.12\n",
       " 5390  27.79  69.23  1012.86  45.71\n",
       " 860   12.26  41.50  1014.87  89.41\n",
       " 7270  11.75  40.55  1018.09  97.70\n",
       " \n",
       " [7654 rows x 4 columns],\n",
       "          AT      V       AP     RH\n",
       " 2513  19.64  48.06  1014.81  74.96\n",
       " 9411  28.26  69.23  1013.01  42.10\n",
       " 8745  27.98  67.17  1007.32  75.29\n",
       " 9085  28.64  69.23  1013.11  37.13\n",
       " 4950   9.34  38.08  1019.56  67.74\n",
       " ...     ...    ...      ...    ...\n",
       " 7204  29.06  64.96  1000.88  62.07\n",
       " 1599   9.87  40.81  1017.17  84.25\n",
       " 5697   8.02  39.04  1018.49  68.07\n",
       " 350   26.48  69.14  1009.31  84.11\n",
       " 6210  15.34  71.14  1019.79  77.56\n",
       " \n",
       " [1914 rows x 4 columns])"
      ]
     },
     "execution_count": 17,
     "metadata": {},
     "output_type": "execute_result"
    }
   ],
   "source": [
    "from sklearn.model_selection import train_test_split\n",
    "X_train, X_test, y_train, y_test = train_test_split(X, y, test_size=0.2, random_state=42)\n",
    "X_train, X_test"
   ]
  },
  {
   "cell_type": "code",
   "execution_count": 18,
   "id": "cc9deb85",
   "metadata": {},
   "outputs": [
    {
     "data": {
      "text/plain": [
       "(5487    443.31\n",
       " 3522    490.96\n",
       " 6916    483.94\n",
       " 7544    471.09\n",
       " 7600    463.28\n",
       "          ...  \n",
       " 5734    444.03\n",
       " 5191    474.67\n",
       " 5390    435.06\n",
       " 860     471.13\n",
       " 7270    472.43\n",
       " Name: PE, Length: 7654, dtype: float64,\n",
       " 2513    455.27\n",
       " 9411    436.31\n",
       " 8745    440.68\n",
       " 9085    434.40\n",
       " 4950    482.06\n",
       "          ...  \n",
       " 7204    430.24\n",
       " 1599    473.20\n",
       " 5697    479.53\n",
       " 350     435.76\n",
       " 6210    457.10\n",
       " Name: PE, Length: 1914, dtype: float64)"
      ]
     },
     "execution_count": 18,
     "metadata": {},
     "output_type": "execute_result"
    }
   ],
   "source": [
    "y_train, y_test"
   ]
  },
  {
   "cell_type": "code",
   "execution_count": null,
   "id": "19736b96",
   "metadata": {},
   "outputs": [],
   "source": []
  }
 ],
 "metadata": {
  "kernelspec": {
   "display_name": "ds_env",
   "language": "python",
   "name": "ds_env"
  },
  "language_info": {
   "codemirror_mode": {
    "name": "ipython",
    "version": 3
   },
   "file_extension": ".py",
   "mimetype": "text/x-python",
   "name": "python",
   "nbconvert_exporter": "python",
   "pygments_lexer": "ipython3",
   "version": "3.12.9"
  },
  "toc": {
   "base_numbering": 1,
   "nav_menu": {},
   "number_sections": true,
   "sideBar": true,
   "skip_h1_title": true,
   "title_cell": "Table of Contents",
   "title_sidebar": "Contents",
   "toc_cell": false,
   "toc_position": {
    "height": "calc(100% - 180px)",
    "left": "10px",
    "top": "150px",
    "width": "302.390625px"
   },
   "toc_section_display": true,
   "toc_window_display": true
  }
 },
 "nbformat": 4,
 "nbformat_minor": 5
}
